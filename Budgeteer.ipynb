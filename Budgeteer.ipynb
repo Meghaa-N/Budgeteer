{
  "nbformat": 4,
  "nbformat_minor": 0,
  "metadata": {
    "colab": {
      "provenance": [],
      "authorship_tag": "ABX9TyPXWkRAgYuwvK/VqMtdnVEm",
      "include_colab_link": true
    },
    "kernelspec": {
      "name": "python3",
      "display_name": "Python 3"
    },
    "language_info": {
      "name": "python"
    }
  },
  "cells": [
    {
      "cell_type": "markdown",
      "metadata": {
        "id": "view-in-github",
        "colab_type": "text"
      },
      "source": [
        "<a href=\"https://colab.research.google.com/github/Meghaa-N/Budgeteer/blob/main/Budgeteer.ipynb\" target=\"_parent\"><img src=\"https://colab.research.google.com/assets/colab-badge.svg\" alt=\"Open In Colab\"/></a>"
      ]
    },
    {
      "cell_type": "markdown",
      "source": [
        "# Budgeteer\n",
        "Budgeteer is a Smart Personal Finance Assistant. This application will act as a chat-bot that gets everyday expense statements from the user in natural language, process the informations to store them in the DBs, and dynamically give budget insights, like your own finance advisor, or a friend (that's your choice!) :)"
      ],
      "metadata": {
        "id": "YjsvuuAcMp0F"
      }
    },
    {
      "cell_type": "markdown",
      "source": [
        "### MongoDB Utilities\n",
        "The section contains all the utility functions that help in querying the database, inserting new expenses in the database and many other such functionalities."
      ],
      "metadata": {
        "id": "DO5jDGp9MxE1"
      }
    },
    {
      "cell_type": "code",
      "source": [
        "!pip install langchain_openai\n",
        "%pip install llama-index-llms-gemini llama-index\n",
        "from langchain_openai import OpenAIEmbeddings\n",
        "from llama_index.llms.gemini import Gemini\n",
        "!pip install pymongo"
      ],
      "metadata": {
        "collapsed": true,
        "id": "XJDkFPsYOnxR"
      },
      "execution_count": null,
      "outputs": []
    },
    {
      "cell_type": "code",
      "source": [
        "from pymongo.mongo_client import MongoClient\n",
        "\n",
        "uri = \"mongodb+srv://meghaan:********************************************************\"\n",
        "client = MongoClient(uri, tls=True, tlsAllowInvalidCertificates=True)\n",
        "\n",
        "try:\n",
        "    client.admin.command('ping')\n",
        "    print(\"Pinged your deployment. You successfully connected to MongoDB!\")\n",
        "except Exception as e:\n",
        "    print(e)"
      ],
      "metadata": {
        "colab": {
          "base_uri": "https://localhost:8080/"
        },
        "id": "CIcdJtVnMsJ-",
        "outputId": "9363604e-23e4-4533-c95d-23b7a460bad4"
      },
      "execution_count": 2,
      "outputs": [
        {
          "output_type": "stream",
          "name": "stdout",
          "text": [
            "Pinged your deployment. You successfully connected to MongoDB!\n"
          ]
        }
      ]
    },
    {
      "cell_type": "code",
      "source": [
        "def get_collection(db_name, collection_name):\n",
        "    db = client[db_name]\n",
        "    collection = db[collection_name]\n",
        "    return collection"
      ],
      "metadata": {
        "id": "qLWkifSZOiRy"
      },
      "execution_count": 3,
      "outputs": []
    },
    {
      "cell_type": "code",
      "source": [
        "def get_currently_available_tags(month_index):\n",
        "    collection = get_collection(\"Budgeteer\",\"Budget Plan\")\n",
        "    budget_plan = collection.find_one({\"_id\":str(month_index)})\n",
        "    if budget_plan == None:\n",
        "      budget_plan = collection.find_one({\"_id\":\"default\"})\n",
        "    tags = budget_plan['values'].keys()\n",
        "    return tags"
      ],
      "metadata": {
        "id": "7Vjunc6qT32B"
      },
      "execution_count": 4,
      "outputs": []
    },
    {
      "cell_type": "code",
      "source": [
        "get_currently_available_tags(1)"
      ],
      "metadata": {
        "colab": {
          "base_uri": "https://localhost:8080/"
        },
        "id": "Yvs7HXv0u9sI",
        "outputId": "4afe5941-f437-4bf8-a198-12a433d62383"
      },
      "execution_count": 5,
      "outputs": [
        {
          "output_type": "execute_result",
          "data": {
            "text/plain": [
              "dict_keys(['groceries', 'food', 'transport', 'medical', 'miscellaneous', 'house'])"
            ]
          },
          "metadata": {},
          "execution_count": 5
        }
      ]
    },
    {
      "cell_type": "code",
      "source": [
        "def get_budget_plan_for_the_month(month_index):\n",
        "  collection = get_collection(\"Budgeteer\",\"Budget Plan\")\n",
        "  budget = collection.find_one({\"_id\":str(month_index)})\n",
        "  if budget == None:\n",
        "    budget = collection.find_one({\"_id\":\"default\"})\n",
        "  return budget[\"values\"]"
      ],
      "metadata": {
        "id": "b3-RPziNXFjX"
      },
      "execution_count": 6,
      "outputs": []
    },
    {
      "cell_type": "code",
      "source": [
        "get_budget_plan_for_the_month(1)"
      ],
      "metadata": {
        "colab": {
          "base_uri": "https://localhost:8080/"
        },
        "id": "23mX2Z38Yna6",
        "outputId": "30d94e17-c18b-40b8-abeb-84c4ed460b64"
      },
      "execution_count": 7,
      "outputs": [
        {
          "output_type": "execute_result",
          "data": {
            "text/plain": [
              "{'groceries': '5',\n",
              " 'food': '4',\n",
              " 'transport': '10',\n",
              " 'medical': '30',\n",
              " 'miscellaneous': '30',\n",
              " 'house': '10'}"
            ]
          },
          "metadata": {},
          "execution_count": 7
        }
      ]
    },
    {
      "cell_type": "code",
      "source": [
        "def get_current_expense_for_the_month(month_index):\n",
        "  collection = get_collection(\"Budgeteer\",\"Monthly Expenses\")\n",
        "  monthly_expense = collection.find_one({\"_id\":str(month_index)})\n",
        "  print(monthly_expense)\n",
        "  amount_split = {}\n",
        "  expense_split = {}\n",
        "  for key in monthly_expense[\"values\"].keys():\n",
        "    expenses = monthly_expense[\"values\"][key]\n",
        "    print(expenses)\n",
        "    for expense in expenses:\n",
        "      amount_split[expense[2]] =  amount_split.get(expense[2],0) + expense[1]\n",
        "      if expense[2] in expense_split:\n",
        "        expense_split[expense[2]][expense[0]] = expense_split[expense[2]].get(expense[0],0) + expense[1]\n",
        "      else:\n",
        "        expense_split[expense[2]] = {}\n",
        "        expense_split[expense[2]][expense[0]] = expense_split[expense[2]].get(expense[0],0) + expense[1]\n",
        "  return amount_split, expense_split"
      ],
      "metadata": {
        "id": "ULAqn9fjYpT5"
      },
      "execution_count": 8,
      "outputs": []
    },
    {
      "cell_type": "code",
      "source": [
        "get_current_expense_for_the_month(2)"
      ],
      "metadata": {
        "colab": {
          "base_uri": "https://localhost:8080/"
        },
        "id": "qoABaJB2dBGl",
        "outputId": "6fe7df48-25e6-4bf6-f0b6-3e867a02680d"
      },
      "execution_count": 9,
      "outputs": [
        {
          "output_type": "stream",
          "name": "stdout",
          "text": [
            "{'_id': '2', 'values': {'01-02-2025': [['ice cream', 200, 'groceries'], ['dinner', 500, 'food']], '02-02-2025': [['flight', 5000, 'transport'], ['flight', 5000, 'transport'], ['flight', 5000, 'transport'], ['flight', 5000, 'transport'], ['flight', 5000, 'transport'], ['flight', 5000, 'transport'], ['flight', 5000, 'transport']], '14-02-2025': [['flight tickets', 2000, 'transport'], ['flight tickets', 2000.0, 'transport'], ['flight tickets', 2000.0, 'transport'], ['flight tickets', 2000.0, 'transport']]}}\n",
            "[['ice cream', 200, 'groceries'], ['dinner', 500, 'food']]\n",
            "[['flight', 5000, 'transport'], ['flight', 5000, 'transport'], ['flight', 5000, 'transport'], ['flight', 5000, 'transport'], ['flight', 5000, 'transport'], ['flight', 5000, 'transport'], ['flight', 5000, 'transport']]\n",
            "[['flight tickets', 2000, 'transport'], ['flight tickets', 2000.0, 'transport'], ['flight tickets', 2000.0, 'transport'], ['flight tickets', 2000.0, 'transport']]\n"
          ]
        },
        {
          "output_type": "execute_result",
          "data": {
            "text/plain": [
              "({'groceries': 200, 'food': 500, 'transport': 43000.0},\n",
              " {'groceries': {'ice cream': 200},\n",
              "  'food': {'dinner': 500},\n",
              "  'transport': {'flight': 35000, 'flight tickets': 8000.0}})"
            ]
          },
          "metadata": {},
          "execution_count": 9
        }
      ]
    },
    {
      "cell_type": "code",
      "source": [
        "\n",
        "def get_income_statement_for_the_month(month_index):\n",
        "  collection = get_collection(\"Budgeteer\",\"Income Statements\")\n",
        "  income = collection.find_one({\"_id\":str(month_index)})\n",
        "  return income[\"values\"]\n",
        "\n",
        "def get_total_income_of_current_month(month_index):\n",
        "  income = get_income_statement_for_the_month(month_index)\n",
        "  income_amount = 0\n",
        "  for key in income.keys():\n",
        "    income_amount += income[key]\n",
        "  return income_amount\n",
        "\n",
        "def get_calculated_budget_for_the_month(month_index):\n",
        "  income = get_total_income_of_current_month(month_index)\n",
        "  budget = get_budget_plan_for_the_month(month_index)\n",
        "  budget_amount = {}\n",
        "  for key in budget.keys():\n",
        "    budget_amount[key] = (float(budget[key]) * income)//100\n",
        "  return budget_amount"
      ],
      "metadata": {
        "id": "sw3svO-ydCst"
      },
      "execution_count": 10,
      "outputs": []
    },
    {
      "cell_type": "code",
      "source": [
        "get_calculated_budget_for_the_month(1)"
      ],
      "metadata": {
        "colab": {
          "base_uri": "https://localhost:8080/"
        },
        "id": "7coQSqrxpWew",
        "outputId": "7adfe067-9735-4cc2-b5c8-6568d7147515"
      },
      "execution_count": 11,
      "outputs": [
        {
          "output_type": "execute_result",
          "data": {
            "text/plain": [
              "{'groceries': 7575.0,\n",
              " 'food': 6060.0,\n",
              " 'transport': 15150.0,\n",
              " 'medical': 45450.0,\n",
              " 'miscellaneous': 45450.0,\n",
              " 'house': 15150.0}"
            ]
          },
          "metadata": {},
          "execution_count": 11
        }
      ]
    },
    {
      "cell_type": "code",
      "source": [
        "def add_expenses(expenses):\n",
        "    collection = get_collection(\"Budgeteer\", \"Monthly Expenses\")\n",
        "    if not expenses:\n",
        "        return []\n",
        "\n",
        "    if isinstance(expenses, str):\n",
        "        try:\n",
        "            match = re.search(r\"\\[\\[(.*?)\\]\\]\", expenses)  # Extract content inside [[ ]]\n",
        "            if match:\n",
        "                extracted_text = match.group(1)  # Get the inside part\n",
        "                items = extracted_text.split(\"], [\")  # Split by ], [\n",
        "\n",
        "                cleaned_expenses = []\n",
        "                for item in items:\n",
        "                    values = item.replace(\"'\", \"\").split(\", \")  # Remove quotes & split\n",
        "                    values[2] = float(values[2])  # Convert amount to number\n",
        "                    cleaned_expenses.append(values)\n",
        "\n",
        "                expenses = cleaned_expenses  # Assign back to expenses\n",
        "            else:\n",
        "                print(\"Error: No valid expense data found in string\")\n",
        "                return []\n",
        "        except Exception as e:\n",
        "            print(\"Error: Failed to process expenses.\", e)\n",
        "            return []\n",
        "\n",
        "    if not isinstance(expenses, list) or not all(isinstance(item, list) for item in expenses):\n",
        "        print(f\"Error: Invalid expense format after conversion: {expenses}\")\n",
        "        return []\n",
        "\n",
        "    for curr_expense in expenses:\n",
        "        date, name, amount, category = curr_expense  # Unpacking the expense tuple\n",
        "        month_index = int(date.split(\"-\")[1])\n",
        "\n",
        "        # Check if the month document exists\n",
        "        expense_doc = collection.find_one({\"_id\": str(month_index)})\n",
        "\n",
        "        if expense_doc is None:\n",
        "            expense_doc = {\"_id\": str(month_index), \"values\": {}}\n",
        "\n",
        "        if date not in expense_doc[\"values\"]:\n",
        "            expense_doc[\"values\"][date] = []\n",
        "\n",
        "        # Append new expense\n",
        "        expense_doc[\"values\"][date].append([name, amount, category])\n",
        "\n",
        "        # Update or insert the document\n",
        "        collection.update_one({\"_id\": str(month_index)}, {\"$set\": {\"values\": expense_doc[\"values\"]}}, upsert=True)\n"
      ],
      "metadata": {
        "id": "wCftgAEYpbnQ"
      },
      "execution_count": 12,
      "outputs": []
    },
    {
      "cell_type": "code",
      "source": [
        "import re\n",
        "\n",
        "def is_exceeding_budget(expenses):\n",
        "    \"\"\"\n",
        "    Function to determine if multiple expenses crossed the budget limit for the month.\n",
        "    Returns a list of results for each expense.\n",
        "    \"\"\"\n",
        "\n",
        "    if not expenses:\n",
        "        return []\n",
        "\n",
        "    if isinstance(expenses, str):\n",
        "        try:\n",
        "            match = re.search(r\"\\[\\[(.*?)\\]\\]\", expenses)  # Extract content inside [[ ]]\n",
        "            if match:\n",
        "                extracted_text = match.group(1)  # Get the inside part\n",
        "                items = extracted_text.split(\"], [\")  # Split by ], [\n",
        "\n",
        "                cleaned_expenses = []\n",
        "                for item in items:\n",
        "                    values = item.replace(\"'\", \"\").split(\", \")  # Remove quotes & split\n",
        "                    values[2] = float(values[2])  # Convert amount to number\n",
        "                    cleaned_expenses.append(values)\n",
        "\n",
        "                expenses = cleaned_expenses  # Assign back to expenses\n",
        "            else:\n",
        "                print(\"Error: No valid expense data found in string\")\n",
        "                return []\n",
        "        except Exception as e:\n",
        "            print(\"Error: Failed to process expenses.\", e)\n",
        "            return []\n",
        "\n",
        "    if not isinstance(expenses, list) or not all(isinstance(item, list) for item in expenses):\n",
        "        print(f\"Error: Invalid expense format after conversion: {expenses}\")\n",
        "        return []\n",
        "\n",
        "    results = []\n",
        "\n",
        "    for expense in expenses:\n",
        "        if not isinstance(expense, list) or len(expense) != 4:\n",
        "            print(f\"Error: Invalid expense format: {expense}\")\n",
        "            continue  # Skip this expense\n",
        "\n",
        "        try:\n",
        "            month_index = int(expense[0].split(\"-\")[1])\n",
        "            amount_split, expense_split = get_current_expense_for_the_month(month_index)\n",
        "            budget_amount = get_calculated_budget_for_the_month(month_index)\n",
        "\n",
        "            category = expense[3]\n",
        "            amount = expense[2]\n",
        "\n",
        "            # Update the current spending in that category\n",
        "            amount_split[category] = amount_split.get(category, 0) + amount\n",
        "\n",
        "            # Check if spending exceeds the budget\n",
        "            exceeds = amount_split[category] > budget_amount.get(category, float(\"inf\"))\n",
        "            results.append((exceeds))\n",
        "\n",
        "        except Exception as e:\n",
        "            print(f\"Error processing expense {expense}: {e}\")\n",
        "\n",
        "    return results\n"
      ],
      "metadata": {
        "id": "eIBAMSST0RV_"
      },
      "execution_count": 13,
      "outputs": []
    },
    {
      "cell_type": "code",
      "source": [
        "import datetime\n",
        "from datetime import datetime\n",
        "def todays_date():\n",
        "  return datetime.now().strftime(\"%d-%m-%Y\")\n",
        "todays_date()"
      ],
      "metadata": {
        "colab": {
          "base_uri": "https://localhost:8080/",
          "height": 35
        },
        "id": "YuM15n4iElfB",
        "outputId": "7eafc0bf-ddf5-43f9-a3ea-09a788d73916"
      },
      "execution_count": 14,
      "outputs": [
        {
          "output_type": "execute_result",
          "data": {
            "text/plain": [
              "'15-02-2025'"
            ],
            "application/vnd.google.colaboratory.intrinsic+json": {
              "type": "string"
            }
          },
          "metadata": {},
          "execution_count": 14
        }
      ]
    },
    {
      "cell_type": "code",
      "source": [
        "new_expense = [\"02-01-2025\",\"flight\",5000,\"transport\"]\n",
        "add_expenses([new_expense])\n",
        "is_exceeding_budget([new_expense])\n"
      ],
      "metadata": {
        "colab": {
          "base_uri": "https://localhost:8080/"
        },
        "id": "u9wn7I4ssvT_",
        "outputId": "851d27af-a853-4363-e741-77d9de4d551c"
      },
      "execution_count": 15,
      "outputs": [
        {
          "output_type": "stream",
          "name": "stdout",
          "text": [
            "{'_id': '1', 'values': {'01-01-2025': [['ice cream', 200, 'groceries'], ['dinner', 500, 'food']], '02-01-2025': [['flight', 5000, 'transport'], ['flight', 5000, 'transport'], ['flight', 5000, 'transport'], ['flight', 5000, 'transport'], ['flight', 5000, 'transport'], ['flight', 5000, 'transport'], ['flight', 5000, 'transport'], ['flight', 5000, 'transport'], ['flight', 5000, 'transport'], ['flight', 5000, 'transport'], ['flight', 5000, 'transport'], ['flight', 5000, 'transport'], ['flight', 5000, 'transport'], ['flight', 5000, 'transport'], ['flight', 5000, 'transport'], ['flight', 5000, 'transport'], ['flight', 5000, 'transport']]}}\n",
            "[['ice cream', 200, 'groceries'], ['dinner', 500, 'food']]\n",
            "[['flight', 5000, 'transport'], ['flight', 5000, 'transport'], ['flight', 5000, 'transport'], ['flight', 5000, 'transport'], ['flight', 5000, 'transport'], ['flight', 5000, 'transport'], ['flight', 5000, 'transport'], ['flight', 5000, 'transport'], ['flight', 5000, 'transport'], ['flight', 5000, 'transport'], ['flight', 5000, 'transport'], ['flight', 5000, 'transport'], ['flight', 5000, 'transport'], ['flight', 5000, 'transport'], ['flight', 5000, 'transport'], ['flight', 5000, 'transport'], ['flight', 5000, 'transport']]\n"
          ]
        },
        {
          "output_type": "execute_result",
          "data": {
            "text/plain": [
              "[True]"
            ]
          },
          "metadata": {},
          "execution_count": 15
        }
      ]
    },
    {
      "cell_type": "code",
      "source": [
        "!pip install langchain\n",
        "%pip install -qU pypdf langchain_community\n",
        "!pip install llama-index"
      ],
      "metadata": {
        "collapsed": true,
        "id": "ocjQkpO92aVV"
      },
      "execution_count": null,
      "outputs": []
    },
    {
      "cell_type": "code",
      "source": [
        "!pip install langchain_community"
      ],
      "metadata": {
        "collapsed": true,
        "id": "bYUBFoKz27Sz"
      },
      "execution_count": null,
      "outputs": []
    },
    {
      "cell_type": "code",
      "source": [
        "!pip uninstall llama-index -y\n",
        "!pip install llama-index\n"
      ],
      "metadata": {
        "collapsed": true,
        "id": "GdtbBcMR3StZ"
      },
      "execution_count": null,
      "outputs": []
    },
    {
      "cell_type": "code",
      "source": [
        "!pip install langchain-google-genai\n"
      ],
      "metadata": {
        "collapsed": true,
        "id": "RTPdx_Rg4HyK"
      },
      "execution_count": null,
      "outputs": []
    },
    {
      "cell_type": "code",
      "source": [
        "# Initialize Model\n",
        "\n",
        "# Import LlamaIndex from llama_index instead of langchain.llms\n",
        "from langchain_openai import OpenAIEmbeddings\n",
        "from llama_index.llms.gemini import Gemini\n",
        "from langchain_google_genai import ChatGoogleGenerativeAI\n",
        "import os\n",
        "\n",
        "GOOGLE_API_KEY = \"**********************************************\"\n",
        "os.environ[\"GOOGLE_API_KEY\"] = GOOGLE_API_KEY\n",
        "\n",
        "gemini_llm = Gemini(  # Assign the Gemini instance to a variable\n",
        "    model=\"models/gemini-1.5-flash\",\n",
        ")\n",
        "myLLM = ChatGoogleGenerativeAI(model=\"gemini-1.5-flash\").bind()"
      ],
      "metadata": {
        "id": "REevcCYXtYzq"
      },
      "execution_count": 52,
      "outputs": []
    },
    {
      "cell_type": "code",
      "source": [
        "# Experimenting Agents to achieve results\n",
        "\n",
        "from pymongo import MongoClient\n",
        "from langchain.chains import LLMChain\n",
        "from langchain.prompts import PromptTemplate\n",
        "from langchain.tools import Tool\n",
        "from langchain.agents import initialize_agent\n",
        "from langchain.memory import ConversationBufferMemory"
      ],
      "metadata": {
        "id": "4g82TSkpcs2k"
      },
      "execution_count": 21,
      "outputs": []
    },
    {
      "cell_type": "code",
      "source": [
        "import json\n",
        "\n",
        "def smart_data_extraction(input_str):\n",
        "    prompt_template = PromptTemplate.from_template(\n",
        "        \"\"\"\n",
        "        Extract structured transaction data from the following input:\n",
        "        \"{input_str}\"\n",
        "        Return a JSON **list** (only JSON, no extra text):\n",
        "        [[\"14-02-2025\", \"flight tickets\", 2000, \"transport\"]]\n",
        "        \"\"\"\n",
        "    )\n",
        "\n",
        "    chain = prompt_template | myLLM\n",
        "\n",
        "    try:\n",
        "        response = chain.invoke({\"input_str\": input_str})\n",
        "        response_text = response.content.strip() if hasattr(response, \"content\") else str(response).strip()\n",
        "\n",
        "        # Extract the first valid JSON list\n",
        "        start_idx = response_text.find(\"[\")\n",
        "        end_idx = response_text.rfind(\"]\") + 1\n",
        "        if start_idx == -1 or end_idx == 0:\n",
        "            raise ValueError(\"No valid JSON found in response\")\n",
        "\n",
        "        clean_json = response_text[start_idx:end_idx]\n",
        "\n",
        "        extracted_data = json.loads(clean_json)\n",
        "\n",
        "        # Ensure it's a list of lists\n",
        "        if isinstance(extracted_data, list) and all(isinstance(item, list) for item in extracted_data):\n",
        "            return extracted_data\n",
        "        else:\n",
        "            print(\"Unexpected format:\", extracted_data)\n",
        "            return []\n",
        "\n",
        "    except json.JSONDecodeError:\n",
        "        print(\"AI returned invalid JSON:\", response_text)\n",
        "        return []\n",
        "    except Exception as e:\n",
        "        print(\"Unexpected error:\", e)\n",
        "        return []\n",
        "\n"
      ],
      "metadata": {
        "id": "YsU-fUkO7S18"
      },
      "execution_count": 22,
      "outputs": []
    },
    {
      "cell_type": "code",
      "source": [
        "# Establishing all the needed functions as tools for the AI to use\n",
        "\n",
        "tools = [\n",
        "    Tool(name=\"Get Expense Tags\", func=get_currently_available_tags, description=\"On passing the month index (1 is January and so on), we get the budget tags that we must categorize each expense in\"),\n",
        "    Tool(name=\"Get Expense Statements from user input\", func=smart_data_extraction, description=\"This function returns an expense statement in the structured fromat from the user input which is in natural language\"),\n",
        "    Tool(name=\"Get Budget Split\", func=get_budget_plan_for_the_month, description=\"This give's the user's current budget plan. Each tag that we use for our expenses have a percentage value in the budget. Groceries: 3 means in a month we are allowed to spend 3% of the total income of the month in groceries\"),\n",
        "    Tool(name=\"Check if expense is greater than the budget\", func=is_exceeding_budget,\n",
        "         description=\"This function returns True if this expense has exceeded the budget limit in that category or not, and also returns current amount spent in the category and the actual budget available in the category\"),\n",
        "    Tool(name=\"Add Expense\", func=add_expenses, description=\"This accepts a list of lists as parameter. Based on the date of expense (usually the first value in the expense list), ot adds this expense in the database\"),\n",
        "    Tool(name=\"Get Income Statement\", func=get_income_statement_for_the_month, description=\"This gives the user's income statements of the month\"),\n",
        "    Tool(name=\"Get Total Income\", func=get_total_income_of_current_month, description=\"This gives the user's total income of the month\"),\n",
        "    Tool(name=\"Get Current Expenses\", func=get_current_expense_for_the_month, description=\"This gives the user's current expenses of the month. We have two objects returned. The first object gives the cumulative amount spent in each category. The second object gives the amount spent in each category for a particular entry. For example the second list add more specifics like icecream:300\"),\n",
        "    Tool(name=\"Get Calculated Budget\",func=get_calculated_budget_for_the_month, description=\"This gives the maximum amount we can spend on each category from the current total income\"),\n",
        "    Tool(name=\"Get Today's date\", func=lambda x: todays_date(), description=\"No input needed. This gives the current date in the format YYYY-MM-DD. The agent can use this if the user says they did something today or yesterday. It gives current date for agent to arrive at user date\")\n",
        "    ]"
      ],
      "metadata": {
        "id": "FCs5TjBTpCqc"
      },
      "execution_count": 23,
      "outputs": []
    },
    {
      "cell_type": "code",
      "source": [
        "memory = ConversationBufferMemory(memory_key=\"chat_history\")"
      ],
      "metadata": {
        "id": "rrywJfEQy129",
        "colab": {
          "base_uri": "https://localhost:8080/"
        },
        "outputId": "7435e6c6-249d-48fa-c8b9-23d12095a59a"
      },
      "execution_count": 24,
      "outputs": [
        {
          "output_type": "stream",
          "name": "stderr",
          "text": [
            "<ipython-input-24-1d4038f3f304>:1: LangChainDeprecationWarning: Please see the migration guide at: https://python.langchain.com/docs/versions/migrating_memory/\n",
            "  memory = ConversationBufferMemory(memory_key=\"chat_history\")\n"
          ]
        }
      ]
    },
    {
      "cell_type": "code",
      "source": [
        "system_message = \"\"\"\n",
        "You are a personal budget management assistant and your name is Budgeteer.\n",
        "Your job is to help the user track their expenses, analyze their spending, and provide insights on budgeting.\n",
        "\n",
        "Remember, You **must** always check if an expense exceeds the budget before logging it into the database.\n",
        "1. First, extract the structured expense data from the user input.\n",
        "2. Then, call `Is Expense Exceeding the Budget` to determine if it surpasses the budget. Appreciate or make friendly wwarning to the user.\n",
        "If the expense exceeds the budget (True), return: 'Expense exceeds budget. Do not add.'\n",
        "If it does not exceed (False), return: 'Expense is within budget. Proceed to add.'\n",
        "3. Finally, call `Add Expense` to record the transaction.\n",
        "Always follow this order if it is a request to add expenses.\n",
        "\n",
        "Use the available tools to fetch budget details, monthly expenses, and category-wise spending. Ensure your responses are clear, actionable, and aligned with the user's financial goals. Automatically categorize transactions based on common spending categories.\n",
        "\"\"\""
      ],
      "metadata": {
        "id": "c6YerIRGy10h"
      },
      "execution_count": 25,
      "outputs": []
    },
    {
      "cell_type": "code",
      "source": [
        "agent = initialize_agent(\n",
        "    tools=tools,\n",
        "    llm=myLLM,\n",
        "    agent=\"zero-shot-react-description\",\n",
        "    memory=memory,\n",
        "    verbose=True,\n",
        "    system_message=system_message\n",
        ")\n"
      ],
      "metadata": {
        "id": "z2Ik10Tby1qW",
        "colab": {
          "base_uri": "https://localhost:8080/"
        },
        "outputId": "04cbddbc-1774-4a3a-eccb-86279a9824c4"
      },
      "execution_count": 26,
      "outputs": [
        {
          "output_type": "stream",
          "name": "stderr",
          "text": [
            "<ipython-input-26-e29363d17b07>:1: LangChainDeprecationWarning: LangChain agents will continue to be supported, but it is recommended for new use cases to be built with LangGraph. LangGraph offers a more flexible and full-featured framework for building agents, including support for tool-calling, persistence of state, and human-in-the-loop workflows. For details, refer to the `LangGraph documentation <https://langchain-ai.github.io/langgraph/>`_ as well as guides for `Migrating from AgentExecutor <https://python.langchain.com/docs/how_to/migrate_agent/>`_ and LangGraph's `Pre-built ReAct agent <https://langchain-ai.github.io/langgraph/how-tos/create-react-agent/>`_.\n",
            "  agent = initialize_agent(\n"
          ]
        }
      ]
    },
    {
      "cell_type": "code",
      "source": [
        "agent.run(\"I spent 2000 for booking flight tickets to go to Goa today\")"
      ],
      "metadata": {
        "id": "olFwlQaF2D-x"
      },
      "execution_count": null,
      "outputs": []
    },
    {
      "cell_type": "markdown",
      "source": [
        "### StreamLit\n"
      ],
      "metadata": {
        "id": "8Syzo3IUcRkR"
      }
    },
    {
      "cell_type": "code",
      "source": [
        "!pip install streamlit ngrok\n",
        "!pip install pyngrok streamlit"
      ],
      "metadata": {
        "colab": {
          "base_uri": "https://localhost:8080/"
        },
        "collapsed": true,
        "id": "IllycvPwNC-J",
        "outputId": "09099e1e-e7ca-4513-f68d-688ff714b9f4"
      },
      "execution_count": 28,
      "outputs": [
        {
          "output_type": "stream",
          "name": "stdout",
          "text": [
            "Collecting streamlit\n",
            "  Downloading streamlit-1.42.0-py2.py3-none-any.whl.metadata (8.9 kB)\n",
            "Collecting ngrok\n",
            "  Downloading ngrok-1.4.0-cp37-abi3-manylinux_2_17_x86_64.manylinux2014_x86_64.whl.metadata (19 kB)\n",
            "Requirement already satisfied: altair<6,>=4.0 in /usr/local/lib/python3.11/dist-packages (from streamlit) (5.5.0)\n",
            "Requirement already satisfied: blinker<2,>=1.0.0 in /usr/local/lib/python3.11/dist-packages (from streamlit) (1.9.0)\n",
            "Requirement already satisfied: cachetools<6,>=4.0 in /usr/local/lib/python3.11/dist-packages (from streamlit) (5.5.1)\n",
            "Requirement already satisfied: click<9,>=7.0 in /usr/local/lib/python3.11/dist-packages (from streamlit) (8.1.8)\n",
            "Requirement already satisfied: numpy<3,>=1.23 in /usr/local/lib/python3.11/dist-packages (from streamlit) (1.26.4)\n",
            "Requirement already satisfied: packaging<25,>=20 in /usr/local/lib/python3.11/dist-packages (from streamlit) (24.2)\n",
            "Requirement already satisfied: pandas<3,>=1.4.0 in /usr/local/lib/python3.11/dist-packages (from streamlit) (2.2.2)\n",
            "Requirement already satisfied: pillow<12,>=7.1.0 in /usr/local/lib/python3.11/dist-packages (from streamlit) (10.4.0)\n",
            "Requirement already satisfied: protobuf<6,>=3.20 in /usr/local/lib/python3.11/dist-packages (from streamlit) (4.25.6)\n",
            "Requirement already satisfied: pyarrow>=7.0 in /usr/local/lib/python3.11/dist-packages (from streamlit) (17.0.0)\n",
            "Requirement already satisfied: requests<3,>=2.27 in /usr/local/lib/python3.11/dist-packages (from streamlit) (2.32.3)\n",
            "Requirement already satisfied: rich<14,>=10.14.0 in /usr/local/lib/python3.11/dist-packages (from streamlit) (13.9.4)\n",
            "Requirement already satisfied: tenacity<10,>=8.1.0 in /usr/local/lib/python3.11/dist-packages (from streamlit) (9.0.0)\n",
            "Requirement already satisfied: toml<2,>=0.10.1 in /usr/local/lib/python3.11/dist-packages (from streamlit) (0.10.2)\n",
            "Requirement already satisfied: typing-extensions<5,>=4.4.0 in /usr/local/lib/python3.11/dist-packages (from streamlit) (4.12.2)\n",
            "Collecting watchdog<7,>=2.1.5 (from streamlit)\n",
            "  Downloading watchdog-6.0.0-py3-none-manylinux2014_x86_64.whl.metadata (44 kB)\n",
            "\u001b[2K     \u001b[90m━━━━━━━━━━━━━━━━━━━━━━━━━━━━━━━━━━━━━━━━\u001b[0m \u001b[32m44.3/44.3 kB\u001b[0m \u001b[31m1.8 MB/s\u001b[0m eta \u001b[36m0:00:00\u001b[0m\n",
            "\u001b[?25hRequirement already satisfied: gitpython!=3.1.19,<4,>=3.0.7 in /usr/local/lib/python3.11/dist-packages (from streamlit) (3.1.44)\n",
            "Collecting pydeck<1,>=0.8.0b4 (from streamlit)\n",
            "  Downloading pydeck-0.9.1-py2.py3-none-any.whl.metadata (4.1 kB)\n",
            "Requirement already satisfied: tornado<7,>=6.0.3 in /usr/local/lib/python3.11/dist-packages (from streamlit) (6.4.2)\n",
            "Requirement already satisfied: jinja2 in /usr/local/lib/python3.11/dist-packages (from altair<6,>=4.0->streamlit) (3.1.5)\n",
            "Requirement already satisfied: jsonschema>=3.0 in /usr/local/lib/python3.11/dist-packages (from altair<6,>=4.0->streamlit) (4.23.0)\n",
            "Requirement already satisfied: narwhals>=1.14.2 in /usr/local/lib/python3.11/dist-packages (from altair<6,>=4.0->streamlit) (1.26.0)\n",
            "Requirement already satisfied: gitdb<5,>=4.0.1 in /usr/local/lib/python3.11/dist-packages (from gitpython!=3.1.19,<4,>=3.0.7->streamlit) (4.0.12)\n",
            "Requirement already satisfied: python-dateutil>=2.8.2 in /usr/local/lib/python3.11/dist-packages (from pandas<3,>=1.4.0->streamlit) (2.8.2)\n",
            "Requirement already satisfied: pytz>=2020.1 in /usr/local/lib/python3.11/dist-packages (from pandas<3,>=1.4.0->streamlit) (2025.1)\n",
            "Requirement already satisfied: tzdata>=2022.7 in /usr/local/lib/python3.11/dist-packages (from pandas<3,>=1.4.0->streamlit) (2025.1)\n",
            "Requirement already satisfied: charset-normalizer<4,>=2 in /usr/local/lib/python3.11/dist-packages (from requests<3,>=2.27->streamlit) (3.4.1)\n",
            "Requirement already satisfied: idna<4,>=2.5 in /usr/local/lib/python3.11/dist-packages (from requests<3,>=2.27->streamlit) (3.10)\n",
            "Requirement already satisfied: urllib3<3,>=1.21.1 in /usr/local/lib/python3.11/dist-packages (from requests<3,>=2.27->streamlit) (2.3.0)\n",
            "Requirement already satisfied: certifi>=2017.4.17 in /usr/local/lib/python3.11/dist-packages (from requests<3,>=2.27->streamlit) (2025.1.31)\n",
            "Requirement already satisfied: markdown-it-py>=2.2.0 in /usr/local/lib/python3.11/dist-packages (from rich<14,>=10.14.0->streamlit) (3.0.0)\n",
            "Requirement already satisfied: pygments<3.0.0,>=2.13.0 in /usr/local/lib/python3.11/dist-packages (from rich<14,>=10.14.0->streamlit) (2.18.0)\n",
            "Requirement already satisfied: smmap<6,>=3.0.1 in /usr/local/lib/python3.11/dist-packages (from gitdb<5,>=4.0.1->gitpython!=3.1.19,<4,>=3.0.7->streamlit) (5.0.2)\n",
            "Requirement already satisfied: MarkupSafe>=2.0 in /usr/local/lib/python3.11/dist-packages (from jinja2->altair<6,>=4.0->streamlit) (3.0.2)\n",
            "Requirement already satisfied: attrs>=22.2.0 in /usr/local/lib/python3.11/dist-packages (from jsonschema>=3.0->altair<6,>=4.0->streamlit) (25.1.0)\n",
            "Requirement already satisfied: jsonschema-specifications>=2023.03.6 in /usr/local/lib/python3.11/dist-packages (from jsonschema>=3.0->altair<6,>=4.0->streamlit) (2024.10.1)\n",
            "Requirement already satisfied: referencing>=0.28.4 in /usr/local/lib/python3.11/dist-packages (from jsonschema>=3.0->altair<6,>=4.0->streamlit) (0.36.2)\n",
            "Requirement already satisfied: rpds-py>=0.7.1 in /usr/local/lib/python3.11/dist-packages (from jsonschema>=3.0->altair<6,>=4.0->streamlit) (0.22.3)\n",
            "Requirement already satisfied: mdurl~=0.1 in /usr/local/lib/python3.11/dist-packages (from markdown-it-py>=2.2.0->rich<14,>=10.14.0->streamlit) (0.1.2)\n",
            "Requirement already satisfied: six>=1.5 in /usr/local/lib/python3.11/dist-packages (from python-dateutil>=2.8.2->pandas<3,>=1.4.0->streamlit) (1.17.0)\n",
            "Downloading streamlit-1.42.0-py2.py3-none-any.whl (9.6 MB)\n",
            "\u001b[2K   \u001b[90m━━━━━━━━━━━━━━━━━━━━━━━━━━━━━━━━━━━━━━━━\u001b[0m \u001b[32m9.6/9.6 MB\u001b[0m \u001b[31m72.5 MB/s\u001b[0m eta \u001b[36m0:00:00\u001b[0m\n",
            "\u001b[?25hDownloading ngrok-1.4.0-cp37-abi3-manylinux_2_17_x86_64.manylinux2014_x86_64.whl (3.1 MB)\n",
            "\u001b[2K   \u001b[90m━━━━━━━━━━━━━━━━━━━━━━━━━━━━━━━━━━━━━━━━\u001b[0m \u001b[32m3.1/3.1 MB\u001b[0m \u001b[31m99.8 MB/s\u001b[0m eta \u001b[36m0:00:00\u001b[0m\n",
            "\u001b[?25hDownloading pydeck-0.9.1-py2.py3-none-any.whl (6.9 MB)\n",
            "\u001b[2K   \u001b[90m━━━━━━━━━━━━━━━━━━━━━━━━━━━━━━━━━━━━━━━━\u001b[0m \u001b[32m6.9/6.9 MB\u001b[0m \u001b[31m111.8 MB/s\u001b[0m eta \u001b[36m0:00:00\u001b[0m\n",
            "\u001b[?25hDownloading watchdog-6.0.0-py3-none-manylinux2014_x86_64.whl (79 kB)\n",
            "\u001b[2K   \u001b[90m━━━━━━━━━━━━━━━━━━━━━━━━━━━━━━━━━━━━━━━━\u001b[0m \u001b[32m79.1/79.1 kB\u001b[0m \u001b[31m6.4 MB/s\u001b[0m eta \u001b[36m0:00:00\u001b[0m\n",
            "\u001b[?25hInstalling collected packages: watchdog, ngrok, pydeck, streamlit\n",
            "Successfully installed ngrok-1.4.0 pydeck-0.9.1 streamlit-1.42.0 watchdog-6.0.0\n",
            "Collecting pyngrok\n",
            "  Downloading pyngrok-7.2.3-py3-none-any.whl.metadata (8.7 kB)\n",
            "Requirement already satisfied: streamlit in /usr/local/lib/python3.11/dist-packages (1.42.0)\n",
            "Requirement already satisfied: PyYAML>=5.1 in /usr/local/lib/python3.11/dist-packages (from pyngrok) (6.0.2)\n",
            "Requirement already satisfied: altair<6,>=4.0 in /usr/local/lib/python3.11/dist-packages (from streamlit) (5.5.0)\n",
            "Requirement already satisfied: blinker<2,>=1.0.0 in /usr/local/lib/python3.11/dist-packages (from streamlit) (1.9.0)\n",
            "Requirement already satisfied: cachetools<6,>=4.0 in /usr/local/lib/python3.11/dist-packages (from streamlit) (5.5.1)\n",
            "Requirement already satisfied: click<9,>=7.0 in /usr/local/lib/python3.11/dist-packages (from streamlit) (8.1.8)\n",
            "Requirement already satisfied: numpy<3,>=1.23 in /usr/local/lib/python3.11/dist-packages (from streamlit) (1.26.4)\n",
            "Requirement already satisfied: packaging<25,>=20 in /usr/local/lib/python3.11/dist-packages (from streamlit) (24.2)\n",
            "Requirement already satisfied: pandas<3,>=1.4.0 in /usr/local/lib/python3.11/dist-packages (from streamlit) (2.2.2)\n",
            "Requirement already satisfied: pillow<12,>=7.1.0 in /usr/local/lib/python3.11/dist-packages (from streamlit) (10.4.0)\n",
            "Requirement already satisfied: protobuf<6,>=3.20 in /usr/local/lib/python3.11/dist-packages (from streamlit) (4.25.6)\n",
            "Requirement already satisfied: pyarrow>=7.0 in /usr/local/lib/python3.11/dist-packages (from streamlit) (17.0.0)\n",
            "Requirement already satisfied: requests<3,>=2.27 in /usr/local/lib/python3.11/dist-packages (from streamlit) (2.32.3)\n",
            "Requirement already satisfied: rich<14,>=10.14.0 in /usr/local/lib/python3.11/dist-packages (from streamlit) (13.9.4)\n",
            "Requirement already satisfied: tenacity<10,>=8.1.0 in /usr/local/lib/python3.11/dist-packages (from streamlit) (9.0.0)\n",
            "Requirement already satisfied: toml<2,>=0.10.1 in /usr/local/lib/python3.11/dist-packages (from streamlit) (0.10.2)\n",
            "Requirement already satisfied: typing-extensions<5,>=4.4.0 in /usr/local/lib/python3.11/dist-packages (from streamlit) (4.12.2)\n",
            "Requirement already satisfied: watchdog<7,>=2.1.5 in /usr/local/lib/python3.11/dist-packages (from streamlit) (6.0.0)\n",
            "Requirement already satisfied: gitpython!=3.1.19,<4,>=3.0.7 in /usr/local/lib/python3.11/dist-packages (from streamlit) (3.1.44)\n",
            "Requirement already satisfied: pydeck<1,>=0.8.0b4 in /usr/local/lib/python3.11/dist-packages (from streamlit) (0.9.1)\n",
            "Requirement already satisfied: tornado<7,>=6.0.3 in /usr/local/lib/python3.11/dist-packages (from streamlit) (6.4.2)\n",
            "Requirement already satisfied: jinja2 in /usr/local/lib/python3.11/dist-packages (from altair<6,>=4.0->streamlit) (3.1.5)\n",
            "Requirement already satisfied: jsonschema>=3.0 in /usr/local/lib/python3.11/dist-packages (from altair<6,>=4.0->streamlit) (4.23.0)\n",
            "Requirement already satisfied: narwhals>=1.14.2 in /usr/local/lib/python3.11/dist-packages (from altair<6,>=4.0->streamlit) (1.26.0)\n",
            "Requirement already satisfied: gitdb<5,>=4.0.1 in /usr/local/lib/python3.11/dist-packages (from gitpython!=3.1.19,<4,>=3.0.7->streamlit) (4.0.12)\n",
            "Requirement already satisfied: python-dateutil>=2.8.2 in /usr/local/lib/python3.11/dist-packages (from pandas<3,>=1.4.0->streamlit) (2.8.2)\n",
            "Requirement already satisfied: pytz>=2020.1 in /usr/local/lib/python3.11/dist-packages (from pandas<3,>=1.4.0->streamlit) (2025.1)\n",
            "Requirement already satisfied: tzdata>=2022.7 in /usr/local/lib/python3.11/dist-packages (from pandas<3,>=1.4.0->streamlit) (2025.1)\n",
            "Requirement already satisfied: charset-normalizer<4,>=2 in /usr/local/lib/python3.11/dist-packages (from requests<3,>=2.27->streamlit) (3.4.1)\n",
            "Requirement already satisfied: idna<4,>=2.5 in /usr/local/lib/python3.11/dist-packages (from requests<3,>=2.27->streamlit) (3.10)\n",
            "Requirement already satisfied: urllib3<3,>=1.21.1 in /usr/local/lib/python3.11/dist-packages (from requests<3,>=2.27->streamlit) (2.3.0)\n",
            "Requirement already satisfied: certifi>=2017.4.17 in /usr/local/lib/python3.11/dist-packages (from requests<3,>=2.27->streamlit) (2025.1.31)\n",
            "Requirement already satisfied: markdown-it-py>=2.2.0 in /usr/local/lib/python3.11/dist-packages (from rich<14,>=10.14.0->streamlit) (3.0.0)\n",
            "Requirement already satisfied: pygments<3.0.0,>=2.13.0 in /usr/local/lib/python3.11/dist-packages (from rich<14,>=10.14.0->streamlit) (2.18.0)\n",
            "Requirement already satisfied: smmap<6,>=3.0.1 in /usr/local/lib/python3.11/dist-packages (from gitdb<5,>=4.0.1->gitpython!=3.1.19,<4,>=3.0.7->streamlit) (5.0.2)\n",
            "Requirement already satisfied: MarkupSafe>=2.0 in /usr/local/lib/python3.11/dist-packages (from jinja2->altair<6,>=4.0->streamlit) (3.0.2)\n",
            "Requirement already satisfied: attrs>=22.2.0 in /usr/local/lib/python3.11/dist-packages (from jsonschema>=3.0->altair<6,>=4.0->streamlit) (25.1.0)\n",
            "Requirement already satisfied: jsonschema-specifications>=2023.03.6 in /usr/local/lib/python3.11/dist-packages (from jsonschema>=3.0->altair<6,>=4.0->streamlit) (2024.10.1)\n",
            "Requirement already satisfied: referencing>=0.28.4 in /usr/local/lib/python3.11/dist-packages (from jsonschema>=3.0->altair<6,>=4.0->streamlit) (0.36.2)\n",
            "Requirement already satisfied: rpds-py>=0.7.1 in /usr/local/lib/python3.11/dist-packages (from jsonschema>=3.0->altair<6,>=4.0->streamlit) (0.22.3)\n",
            "Requirement already satisfied: mdurl~=0.1 in /usr/local/lib/python3.11/dist-packages (from markdown-it-py>=2.2.0->rich<14,>=10.14.0->streamlit) (0.1.2)\n",
            "Requirement already satisfied: six>=1.5 in /usr/local/lib/python3.11/dist-packages (from python-dateutil>=2.8.2->pandas<3,>=1.4.0->streamlit) (1.17.0)\n",
            "Downloading pyngrok-7.2.3-py3-none-any.whl (23 kB)\n",
            "Installing collected packages: pyngrok\n",
            "Successfully installed pyngrok-7.2.3\n"
          ]
        }
      ]
    },
    {
      "cell_type": "code",
      "source": [
        "!ngrok authtoken 2t2auHomTGUwgsbafz2wvj4YhJK_33GSuf1VX2N4jVqG63bvs"
      ],
      "metadata": {
        "colab": {
          "base_uri": "https://localhost:8080/"
        },
        "id": "5R8KqpbWZq-q",
        "outputId": "7acc460f-03ca-4c52-d62f-43d3177827b5"
      },
      "execution_count": 38,
      "outputs": [
        {
          "output_type": "stream",
          "name": "stdout",
          "text": [
            "Authtoken saved to configuration file: /root/.config/ngrok/ngrok.yml\n"
          ]
        }
      ]
    },
    {
      "cell_type": "code",
      "source": [
        "!pip install fastapi uvicorn nest-asyncio\n",
        "!killall ngrok\n"
      ],
      "metadata": {
        "id": "DKMhokUEovcU"
      },
      "execution_count": null,
      "outputs": []
    },
    {
      "cell_type": "code",
      "source": [
        "from fastapi import FastAPI\n",
        "from pydantic import BaseModel\n",
        "from pyngrok import ngrok\n",
        "import time\n",
        "import nest_asyncio  # Import nest_asyncio\n",
        "import uvicorn\n",
        "\n",
        "app = FastAPI()\n",
        "\n",
        "class QueryModel(BaseModel):\n",
        "    query: str\n",
        "\n",
        "@app.post(\"/agent_response\")\n",
        "async def get_response(query: QueryModel):\n",
        "    user_input = query.query  # Extract user input\n",
        "    print(f\"Received input: {user_input}\")  # Debugging log\n",
        "\n",
        "    response_text = agent.run(user_input)  # Ensure it waits for completion\n",
        "    print(f\"Agent Response: {response_text}\")  # Debugging log\n",
        "\n",
        "    return {\"response\": response_text}\n",
        "\n",
        "\n",
        "# Start the server\n",
        "ngrok_tunnel = ngrok.connect(8000)\n",
        "print(\"Backend running at:\", ngrok_tunnel.public_url)\n",
        "\n",
        "# Apply nest_asyncio to allow nested event loops\n",
        "nest_asyncio.apply()\n",
        "\n",
        "# Run uvicorn with the FastAPI app\n",
        "uvicorn.run(app, host=\"0.0.0.0\", port=8000)"
      ],
      "metadata": {
        "id": "5aQYGvMJZToI"
      },
      "execution_count": null,
      "outputs": []
    },
    {
      "cell_type": "code",
      "source": [
        "!nohup streamlit run streamlit_app.py --server.port 8501 --server.address 0.0.0.0 > streamlit.log 2>&1 &\n"
      ],
      "metadata": {
        "id": "0rKtrLv8cyry"
      },
      "execution_count": 48,
      "outputs": []
    },
    {
      "cell_type": "code",
      "source": [
        "!ls"
      ],
      "metadata": {
        "colab": {
          "base_uri": "https://localhost:8080/"
        },
        "id": "-D56EZhReVT4",
        "outputId": "0822824e-f829-452f-9548-e179c7781990"
      },
      "execution_count": 49,
      "outputs": [
        {
          "output_type": "stream",
          "name": "stdout",
          "text": [
            "sample_data  streamlit_app.py  streamlit.log\n"
          ]
        }
      ]
    },
    {
      "cell_type": "code",
      "source": [
        "from pyngrok import ngrok\n",
        "public_url = ngrok.connect(8501)\n",
        "print(\"Streamlit is live at:\", public_url)"
      ],
      "metadata": {
        "colab": {
          "base_uri": "https://localhost:8080/"
        },
        "outputId": "ea10e72a-4a95-440c-a574-9ac73c0c14f4",
        "id": "KD-V_YjHerlS"
      },
      "execution_count": 50,
      "outputs": [
        {
          "output_type": "stream",
          "name": "stdout",
          "text": [
            "Streamlit is live at: NgrokTunnel: \"https://c0c6-34-23-88-68.ngrok-free.app\" -> \"http://localhost:8501\"\n"
          ]
        }
      ]
    },
    {
      "cell_type": "code",
      "source": [],
      "metadata": {
        "id": "fRdw-f-ZoCMQ"
      },
      "execution_count": 50,
      "outputs": []
    }
  ]
}